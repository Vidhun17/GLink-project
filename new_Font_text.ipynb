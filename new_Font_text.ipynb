{
  "nbformat": 4,
  "nbformat_minor": 0,
  "metadata": {
    "colab": {
      "provenance": []
    },
    "kernelspec": {
      "name": "python3",
      "display_name": "Python 3"
    },
    "language_info": {
      "name": "python"
    }
  },
  "cells": [
    {
      "cell_type": "code",
      "execution_count": 5,
      "metadata": {
        "id": "wHoYaSc2TB5x"
      },
      "outputs": [],
      "source": [
        "import transformers"
      ]
    },
    {
      "cell_type": "code",
      "source": [
        "import torch"
      ],
      "metadata": {
        "id": "w6qYj3I0TFBJ"
      },
      "execution_count": 6,
      "outputs": []
    },
    {
      "cell_type": "code",
      "source": [
        "from transformers import GPT2LMHeadModel, GPT2Tokenizer\n",
        "from IPython.display import display, HTML\n",
        "\n",
        "model_name = 'gpt2'\n",
        "tokenizer = GPT2Tokenizer.from_pretrained(model_name)\n",
        "model = GPT2LMHeadModel.from_pretrained(model_name)\n",
        "\n",
        "def generate_text(prompt, max_words):\n",
        "    max_length = max_words * 2\n",
        "    inputs = tokenizer.encode(prompt, return_tensors='pt')\n",
        "    outputs = model.generate(\n",
        "        inputs,\n",
        "        max_length=max_length,\n",
        "        num_return_sequences=1,\n",
        "        temperature=0.7,\n",
        "        top_k=50,\n",
        "        top_p=0.95,\n",
        "        no_repeat_ngram_size=2,\n",
        "        do_sample=True\n",
        "    )\n",
        "    text = tokenizer.decode(outputs[0], skip_special_tokens=True)\n",
        "    return ' '.join(text.split()[:max_words])\n",
        "\n",
        "# User input for topic and number of words\n",
        "topic = input(\"Enter the topic: \")\n",
        "num_words = int(input(\"Enter the number of words: \"))\n",
        "\n",
        "generated_paragraph = generate_text(f\"Write a paragraph about {topic}.\", num_words)\n",
        "\n",
        "# HTML content with styled fonts\n",
        "html_content = f\"\"\"\n",
        "<!DOCTYPE html>\n",
        "<html lang=\"en\">\n",
        "<head>\n",
        "    <meta charset=\"UTF-8\">\n",
        "    <meta name=\"viewport\" content=\"width=device-width, initial-scale=1.0\">\n",
        "    <title>Generated Text with Google Fonts</title>\n",
        "    <link rel=\"stylesheet\" href=\"https://fonts.googleapis.com/css?family=Roboto|Open+Sans&display=swap\">\n",
        "    <style>\n",
        "        body {{ font-family: 'Brush Script MT', cursive; }}\n",
        "        h1 {{ font-size: 2em; }}\n",
        "        p {{ font-family: 'Brush Script MT', cursive; font-size: 1.5em; }}\n",
        "        .serif {{ font-family: 'Garamond', serif; }}\n",
        "    </style>\n",
        "</head>\n",
        "<body>\n",
        "    <h1>Font 1 - Brush Script MT</h1>\n",
        "    <p>{generated_paragraph}</p>\n",
        "    <h1>Font 2 - Garamond</h1>\n",
        "    <p class=\"serif\">{generated_paragraph}</p>\n",
        "</body>\n",
        "</html>\n",
        "\"\"\"\n",
        "\n",
        "display(HTML(html_content))\n"
      ],
      "metadata": {
        "colab": {
          "base_uri": "https://localhost:8080/",
          "height": 522
        },
        "id": "aYibbBOgTOxx",
        "outputId": "001fec2c-e539-47ea-e447-ce046271c74c"
      },
      "execution_count": 8,
      "outputs": [
        {
          "name": "stdout",
          "output_type": "stream",
          "text": [
            "Enter the topic: explain celonis data mining\n",
            "Enter the number of words: 250\n"
          ]
        },
        {
          "output_type": "stream",
          "name": "stderr",
          "text": [
            "The attention mask and the pad token id were not set. As a consequence, you may observe unexpected behavior. Please pass your input's `attention_mask` to obtain reliable results.\n",
            "Setting `pad_token_id` to `eos_token_id`:50256 for open-end generation.\n"
          ]
        },
        {
          "output_type": "display_data",
          "data": {
            "text/plain": [
              "<IPython.core.display.HTML object>"
            ],
            "text/html": [
              "\n",
              "<!DOCTYPE html>\n",
              "<html lang=\"en\">\n",
              "<head>\n",
              "    <meta charset=\"UTF-8\">\n",
              "    <meta name=\"viewport\" content=\"width=device-width, initial-scale=1.0\">\n",
              "    <title>Generated Text with Google Fonts</title>\n",
              "    <link rel=\"stylesheet\" href=\"https://fonts.googleapis.com/css?family=Roboto|Open+Sans&display=swap\">\n",
              "    <style>\n",
              "        body { font-family: 'Brush Script MT', cursive; }\n",
              "        h1 { font-size: 2em; }\n",
              "        p { font-family: 'Brush Script MT', cursive; font-size: 1.5em; }\n",
              "        .serif { font-family: 'Garamond', serif; }\n",
              "    </style>\n",
              "</head>\n",
              "<body>\n",
              "    <h1>Font 1 - Brush Script MT</h1>\n",
              "    <p>Write a paragraph about explain celonis data mining. This is one of those rare instances where you just have to read the blog posts and read them. The blog post is an excellent example of how to put a page that says \"Celonis, a new data miner, is getting ready for the big day.\" The paragraph is really just a way to get the reader to click on the link. If you click that link and find out that it is a blog, you are doing something right. What you're doing is giving the viewer an idea of what to expect. You are giving them an opportunity to learn how CELOPS is done. It's not just an article on how you do it, it's a piece of data that's being mined. So if you read that blogpost, or even if it was originally posted in this thread, that kind of piece is important for your readers. And it doesn't even need to be a good piece. Just give the readers some idea.</p>\n",
              "    <h1>Font 2 - Garamond</h1>\n",
              "    <p class=\"serif\">Write a paragraph about explain celonis data mining. This is one of those rare instances where you just have to read the blog posts and read them. The blog post is an excellent example of how to put a page that says \"Celonis, a new data miner, is getting ready for the big day.\" The paragraph is really just a way to get the reader to click on the link. If you click that link and find out that it is a blog, you are doing something right. What you're doing is giving the viewer an idea of what to expect. You are giving them an opportunity to learn how CELOPS is done. It's not just an article on how you do it, it's a piece of data that's being mined. So if you read that blogpost, or even if it was originally posted in this thread, that kind of piece is important for your readers. And it doesn't even need to be a good piece. Just give the readers some idea.</p>\n",
              "</body>\n",
              "</html>\n"
            ]
          },
          "metadata": {}
        }
      ]
    },
    {
      "cell_type": "code",
      "source": [],
      "metadata": {
        "id": "hDsl0zwGTSvc"
      },
      "execution_count": null,
      "outputs": []
    }
  ]
}